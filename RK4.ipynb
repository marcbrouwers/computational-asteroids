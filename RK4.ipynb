{
 "cells": [
  {
   "cell_type": "code",
   "execution_count": 17,
   "metadata": {},
   "outputs": [],
   "source": [
    "from scipy.constants import codata\n",
    "import numpy as np\n",
    "G = 6.674e-11 #replace by scipy"
   ]
  },
  {
   "cell_type": "code",
   "execution_count": null,
   "metadata": {
    "collapsed": true
   },
   "outputs": [],
   "source": [
    "def many_particles_integrator(dt, t_end, particles):\n",
    "    n_particles = len(particles)\n",
    "    \n",
    "    \n",
    "    for i in range(int(t_end/dt)):\n",
    "        \n",
    "        for n in range(n_particles):\n",
    "            dv, dx = RK4_gravitational(v_i, x_i, dt)\n",
    "            t, v_i, x_i = t + dt, v_i + dv, x_i + dx\n",
    "\n",
    "            times.append(t)\n",
    "            positions.append(x_i)\n",
    "            velocities.append(v_i)\n",
    "            errors.append(x_i )\n",
    "            \n",
    "    return np.array(positions), np.array(velocities), np.array(times)\n",
    "\n",
    "\n",
    "def RK4_gravitational(v_i, r_i, dt, M):\n",
    "    \n",
    "    k1_v = -G * M / r_i**2 * dt\n",
    "    k1_x = v_i * dt\n",
    "    k2_v = -G * M / (r_i + 0.5 * k1_x)**2 * dt\n",
    "    k2_x = (v_i + 0.5 * k1_v) * dt\n",
    "    k3_v = -G * M / (r_i + 0.5 * k2_x)**2 * dt\n",
    "    k3_x = (v_i + 0.5 * k2_v) * dt\n",
    "    k4_v = -G * M / (r_i + k3_x)**2 * dt\n",
    "    k4_x = (v_i + k3_v) * dt\n",
    "    \n",
    "    dv = k1_v / 6 + k2_v / 3 + k3_v / 3 + k4_v / 6\n",
    "    dx = k1_x / 6 + k2_x / 3 + k3_x / 3 + k4_x / 6\n",
    "    \n",
    "    return dv, dx"
   ]
  },
  {
   "cell_type": "code",
   "execution_count": 22,
   "metadata": {},
   "outputs": [
    {
     "name": "stdout",
     "output_type": "stream",
     "text": [
      "(3L, 2L)\n"
     ]
    }
   ],
   "source": [
    "init_radii = np.array([0, R_jup], [R_jup, 0]) # distance to Sun, Jupiter for sun, jupiter\n",
    "masses = np.array([1.989e30, 1.898e+27]) # sun, jupiter\n",
    "\n",
    "\n",
    "velocities = np.array([0, 13058.1359043])\n",
    "particle_info = np.array([masses, radii, velocities])\n",
    "\n",
    "many_particles_integrator(1000, 100000, particle_info)"
   ]
  }
 ],
 "metadata": {
  "kernelspec": {
   "display_name": "Python 2",
   "language": "python",
   "name": "python2"
  },
  "language_info": {
   "codemirror_mode": {
    "name": "ipython",
    "version": 2
   },
   "file_extension": ".py",
   "mimetype": "text/x-python",
   "name": "python",
   "nbconvert_exporter": "python",
   "pygments_lexer": "ipython2",
   "version": "2.7.14"
  }
 },
 "nbformat": 4,
 "nbformat_minor": 2
}
