{
 "cells": [
  {
   "cell_type": "code",
   "execution_count": 95,
   "metadata": {
    "collapsed": true
   },
   "outputs": [],
   "source": [
    "import numpy as np\n",
    "import numpy.random as rn\n",
    "import math as m\n",
    "import matplotlib.pyplot as plt\n",
    "from __future__ import division\n",
    "import time\n",
    "\n",
    "G = 6.67e-11\n",
    "R_jup = 7.785e+11\n",
    "M_jup = 1.898e+27\n",
    "M_sun = 1.989e+30\n",
    "V_jup = m.sqrt(G*M_sun/R_jup)\n",
    "R_earth = 1.496e+11 #Smallest R for an asteroid\n",
    "\n",
    "t_kep = 2 * m.pi * R_jup**1.5 / m.sqrt(G*M_sun) # keplerian period jupiter\n",
    "t_year = 365 * 24 * 3600"
   ]
  },
  {
   "cell_type": "code",
   "execution_count": 96,
   "metadata": {},
   "outputs": [],
   "source": [
    "nbodies = 50\n",
    "t_end = 2 * t_kep # keplerian period jupiter\n",
    "dt = 0.05 * t_year\n",
    "\n",
    "bodieslist = [\"Sun\", \"Jupiter\"]\n",
    "initcond = np.zeros((nbodies,7))\n",
    "positions = {}\n",
    "positions[\"Sun\"] = np.array([0,0,0,0,0,0,M_sun]) #x,y,z,vx, vy, vz\n",
    "positions[\"Jupiter\"] = np.array([R_jup,0,0,0,V_jup,0,M_jup])"
   ]
  },
  {
   "cell_type": "code",
   "execution_count": 97,
   "metadata": {
    "collapsed": true
   },
   "outputs": [],
   "source": [
    "def f12(Body1,Body2,position_1):\n",
    "    if Body1 == Body2:\n",
    "        return np.array([0,0,0])\n",
    "    pos = position_1-positions[Body2][0:3]\n",
    "    dist = np.linalg.norm(pos)\n",
    "    return -G* positions[Body2][-1]*pos/(dist)**3\n",
    "\n",
    "\n",
    "def force(Body1, position_1):\n",
    "    F = 0\n",
    "    for k in [\"Jupiter\", \"Sun\"]:\n",
    "        F = F + f12(Body1, k, position_1)\n",
    "    return F\n",
    "\n",
    "\n",
    "def asteroid_init():\n",
    "    r_asteroids = np.linspace(R_earth,R_jup,n_bodies)\n",
    "    v_kepler = np.sqrt(G*M_sun/r_asteroids)\n",
    "    for r in r_asteroids:\n",
    "        theta = 0       #Phase of the orbit\n",
    "        v = m.sqrt(G*M_sun/r) * rn.uniform(1, 1.01)\n",
    "        bodieslist.append(\"Body \"+str(i+1))\n",
    "        positions[bodieslist[i+2]] = np.array([r*m.cos(theta),r*m.sin(theta),0,v*m.cos(theta+m.pi/2),v*m.sin(theta+m.pi/2),0, 0])\n",
    "        \n",
    "    "
   ]
  },
  {
   "cell_type": "code",
   "execution_count": 98,
   "metadata": {
    "scrolled": false
   },
   "outputs": [
    {
     "name": "stdout",
     "output_type": "stream",
     "text": [
      "Computation time: 5.08499979973 s\n"
     ]
    }
   ],
   "source": [
    "def RK4_gravitational(Body, dt):\n",
    "    \n",
    "    k1 = np.concatenate((positions[Body][3:6], force(Body, positions[Body][:3]))) * dt\n",
    "    k2 = np.concatenate((positions[Body][3:6] + k1[3:] * 0.5, force(Body, positions[Body][:3]  + k1[:3] * 0.5))) * dt\n",
    "    k3 = np.concatenate((positions[Body][3:6] + k2[3:] * 0.5, force(Body, positions[Body][:3]  + k2[:3] * 0.5))) * dt\n",
    "    k4 = np.concatenate((positions[Body][3:6] + k3[3:], force(Body, positions[Body][:3]  + k3[:3]))) * dt\n",
    "    positions[Body][:6] = positions[Body][:6] + k1 / 6 + k2 / 3 + k3 / 3 + k4 / 6\n",
    "    \n",
    "    return positions[Body]\n",
    "\n",
    "\n",
    "def EulerCromer_gravitational(Body, dt):\n",
    "    \n",
    "    v_np1 = positions[Body][3:6] + force(Body, positions[Body][:3]) * dt\n",
    "    x_np1 = positions[Body][:3] + v_np1 * dt\n",
    "    positions[Body][:6] = np.concatenate((x_np1, v_np1))\n",
    "    \n",
    "    return positions[Body]\n",
    "\n",
    "\n",
    "def integrator(t_end, dt, int_type):\n",
    "    asteroid_init() #comment this line if you want to test accuracy\n",
    "#     fig, ax = plt.subplots(1,1, figsize=(8,6))\n",
    "    for i in xrange(int(t_end/dt)):\n",
    "        temporalbodielist = bodieslist\n",
    "        for j, Body in enumerate(temporalbodielist):\n",
    "            if int_type == 'RK4':\n",
    "                positions[Body] = RK4_gravitational(Body, dt)\n",
    "            else:\n",
    "                positions[Body] = EulerCromer_gravitational(Body, dt)\n",
    "            #Condition to get rid of asteroids flying away\n",
    "            if positions[Body][0] > 3*R_jup or positions[Body][1] > 3* R_jup or positions[Body][0] < -3*R_jup or positions[Body][1] < -3* R_jup:  #Eliminating from the list asteroids scaping\n",
    "                bodieslist.remove(Body)\n",
    "        \n",
    "#         if i % 25 == 0:\n",
    "#             ax.plot(positions['Sun'][0] / R_jup, positions['Sun'][1] / R_jup, '.', c='y')\n",
    "#             ax.plot(positions['Jupiter'][0] / R_jup, positions['Jupiter'][1] / R_jup, '.', c='b')\n",
    "#     plt.show()\n",
    "    return positions\n",
    "\n",
    "time_1 = time.time()\n",
    "integrator(t_end, dt, 'RK4')\n",
    "print 'Computation time: ' + str(time.time() - time_1) + ' s'"
   ]
  }
 ],
 "metadata": {
  "kernelspec": {
   "display_name": "Python 2",
   "language": "python",
   "name": "python2"
  },
  "language_info": {
   "codemirror_mode": {
    "name": "ipython",
    "version": 2
   },
   "file_extension": ".py",
   "mimetype": "text/x-python",
   "name": "python",
   "nbconvert_exporter": "python",
   "pygments_lexer": "ipython2",
   "version": "2.7.14"
  }
 },
 "nbformat": 4,
 "nbformat_minor": 2
}
