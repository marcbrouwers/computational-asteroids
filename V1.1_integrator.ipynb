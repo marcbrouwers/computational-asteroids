{
 "cells": [
  {
   "cell_type": "code",
   "execution_count": 1,
   "metadata": {
    "collapsed": true
   },
   "outputs": [],
   "source": [
    "import numpy as np\n",
    "import numpy.random as rn\n",
    "import math as m\n",
    "import matplotlib.pyplot as plt\n",
    "from __future__ import division\n",
    "\n",
    "G = 6.67e-11\n",
    "R_jup = 7.785e+11\n",
    "M_jup = 1.898e+27\n",
    "V_jup = 1.3058e+4\n",
    "M_sun = 1.989e+30\n",
    "R_earth = 1.496e+11 #Smallest R for an asteroid"
   ]
  },
  {
   "cell_type": "code",
   "execution_count": 2,
   "metadata": {},
   "outputs": [
    {
     "name": "stdout",
     "output_type": "stream",
     "text": [
      "{'Sun': array([  0.00000000e+00,   0.00000000e+00,   0.00000000e+00,\n",
      "         0.00000000e+00,   0.00000000e+00,   0.00000000e+00,\n",
      "         1.98900000e+30]), 'Jupiter': array([  7.78500000e+11,   0.00000000e+00,   0.00000000e+00,\n",
      "         0.00000000e+00,   1.30580000e+04,   0.00000000e+00,\n",
      "         1.89800000e+27])}\n"
     ]
    }
   ],
   "source": [
    "nbodies = 1\n",
    "t_intervals = 10000\n",
    "t_end = 100000000\n",
    "bodieslist = [\"Sun\", \"Jupiter\"]\n",
    "initcond = np.zeros((nbodies,7))\n",
    "positions = {}\n",
    "positions[\"Sun\"] = np.array([0,0,0,0,0,0,M_sun]) #x,y,z,vx, vy, vz\n",
    "positions[\"Jupiter\"] = np.array([R_jup,0,0,0,V_jup,0,M_jup])\n",
    "\n",
    "print positions"
   ]
  },
  {
   "cell_type": "code",
   "execution_count": 3,
   "metadata": {
    "collapsed": true
   },
   "outputs": [],
   "source": [
    "def f12(Body1,Body2,position_1):\n",
    "    if Body1 == Body2:\n",
    "        return np.array([0,0,0])\n",
    "    pos = position_1-positions[Body2][0:3]\n",
    "    dist = np.linalg.norm(pos)\n",
    "    return -G* positions[Body2][-1]*pos/(dist)**3\n",
    "\n",
    "def force(Body1, position_1):\n",
    "    F = 0\n",
    "    for k in [\"Jupiter\", \"Sun\"]:\n",
    "        F = F + f12(Body1, k, position_1)\n",
    "    return F\n",
    "\n",
    "\n",
    "def asteroid_init():\n",
    "    \n",
    "    for i in range(nbodies):\n",
    "        theta = 2*m.pi*rn.random()        #Phase of the orbit\n",
    "        r = rn.uniform(R_earth,R_jup)    #Radius of the asteroids between earth and jupiter orbit\n",
    "        bodieslist.append(\"Body \"+str(i+1))\n",
    "        positions[bodieslist[i+2]] = np.array([r*m.cos(theta),r*m.sin(theta),0,(R_jup/r)*V_jup*m.cos(theta+m.pi/2),(R_jup/r)*V_jup*m.sin(theta+m.pi/2),0, 0])\n",
    "        \n",
    "    "
   ]
  },
  {
   "cell_type": "code",
   "execution_count": 4,
   "metadata": {},
   "outputs": [
    {
     "data": {
      "image/png": "[encoded data removed]",
      "text/plain": [
       "<matplotlib.figure.Figure at 0x83f4a58>"
      ]
     },
     "metadata": {},
     "output_type": "display_data"
    },
    {
     "name": "stdout",
     "output_type": "stream",
     "text": [
      "{'Sun': array([  8.21477842e+08,   5.07180967e+08,   0.00000000e+00,\n",
      "         1.23832415e+01,   1.37828498e+01,   0.00000000e+00,\n",
      "         1.98900000e+30]), 'Body 1': array([ -7.81127018e+11,  -9.48313596e+11,   0.00000000e+00,\n",
      "         1.36246107e+03,  -1.13590190e+04,   0.00000000e+00,\n",
      "         0.00000000e+00]), 'Jupiter': array([ -8.23191992e+10,   7.74229914e+11,   0.00000000e+00,\n",
      "        -1.29757471e+04,  -1.38676056e+03,   0.00000000e+00,\n",
      "         1.89800000e+27])}\n"
     ]
    }
   ],
   "source": [
    "def RK4_gravitational(Body, dt):\n",
    "    \n",
    "    k1 = np.concatenate((positions[Body][3:6], force(Body, positions[Body][:3]))) * dt\n",
    "    k2 = np.concatenate((positions[Body][3:6] + k1[3:] * 0.5, force(Body, positions[Body][:3]  + k1[:3] * 0.5))) * dt\n",
    "    k3 = np.concatenate((positions[Body][3:6] + k2[3:] * 0.5, force(Body, positions[Body][:3]  + k2[:3] * 0.5))) * dt\n",
    "    k4 = np.concatenate((positions[Body][3:6] + k3[3:], force(Body, positions[Body][:3]  + k3[:3]))) * dt\n",
    "    positions[Body][:6] = positions[Body][:6] + k1 / 6 + k2 / 3 + k3 / 3 + k4 / 6\n",
    "    \n",
    "    return positions[Body]\n",
    "\n",
    "\n",
    "def integrator():\n",
    "    condition = False     # We need a condition for getting rid of asteroids scaping from the system\n",
    "    asteroid_init()\n",
    "    dt = t_end / t_intervals\n",
    "    plt.figure(figsize=(8,6))\n",
    "    for i in range(t_intervals):\n",
    "        for j, Body in enumerate(bodieslist):\n",
    "            positions[Body] = RK4_gravitational(Body, dt)\n",
    "            if condition == True:  #Eliminating from the list asteroids scaping\n",
    "                bodielist.pop(i)\n",
    "        if (i % 100) == 0:\n",
    "            plt.plot(positions[\"Sun\"][0], positions[\"Sun\"][1], 'o', c = 'y') \n",
    "            plt.plot(positions[\"Jupiter\"][0], positions[\"Jupiter\"][1], 'o', c = 'b') \n",
    "            if(nbodies!=0): plt.plot(positions[\"Body 1\"][0], positions[\"Body 1\"][1], 'o', c = 'g')  \n",
    "    plt.show()\n",
    "    return positions\n",
    "\n",
    "\n",
    "print integrator()"
   ]
  },
  {
   "cell_type": "code",
   "execution_count": null,
   "metadata": {
    "collapsed": true
   },
   "outputs": [],
   "source": []
  },
  {
   "cell_type": "code",
   "execution_count": null,
   "metadata": {
    "collapsed": true
   },
   "outputs": [],
   "source": []
  }
 ],
 "metadata": {
  "kernelspec": {
   "display_name": "Python 2",
   "language": "python",
   "name": "python2"
  },
  "language_info": {
   "codemirror_mode": {
    "name": "ipython",
    "version": 2
   },
   "file_extension": ".py",
   "mimetype": "text/x-python",
   "name": "python",
   "nbconvert_exporter": "python",
   "pygments_lexer": "ipython2",
   "version": "2.7.14"
  }
 },
 "nbformat": 4,
 "nbformat_minor": 2
}
