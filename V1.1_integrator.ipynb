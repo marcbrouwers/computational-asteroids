{
 "cells": [
  {
   "cell_type": "code",
   "execution_count": null,
   "metadata": {
    "collapsed": true
   },
   "outputs": [],
   "source": [
    "import numpy as np\n",
    "import numpy.random as rn\n",
    "import math as m\n",
    "import matplotlib.pyplot as plt\n",
    "from __future__ import division\n",
    "\n",
    "G = 6.67e-11\n",
    "R_jup = 7.785e+11\n",
    "M_jup = 1.898e+27\n",
    "V_jup = 1.3058e+4\n",
    "M_sun = 1.989e+30\n",
    "R_earth = 1.496e+11 #Smallest R for an asteroid"
   ]
  },
  {
   "cell_type": "code",
   "execution_count": null,
   "metadata": {},
   "outputs": [],
   "source": [
    "nbodies = 0\n",
    "t_intervals = 1000000\n",
    "t_end = 10000000000\n",
    "bodieslist = [\"Sun\", \"Jupiter\"]\n",
    "initcond = np.zeros((nbodies,7))\n",
    "positions = {}\n",
    "positions[\"Sun\"] = np.array([0,0,0,0,0,0,M_sun]) #x,y,z,vx, vy, vz\n",
    "positions[\"Jupiter\"] = np.array([R_jup,0,0,0,V_jup,0,M_jup])\n",
    "\n",
    "print positions"
   ]
  },
  {
   "cell_type": "code",
   "execution_count": null,
   "metadata": {
    "collapsed": true
   },
   "outputs": [],
   "source": [
    "def f12(Body1,Body2,position_1):\n",
    "    if Body1 == Body2:\n",
    "        return np.array([0,0,0])\n",
    "    pos = position_1-positions[Body2][0:3]\n",
    "    dist = np.linalg.norm(pos)\n",
    "    return -G* positions[Body2][-1]*pos/(dist)**3\n",
    "\n",
    "def force(Body1, position_1):\n",
    "    F = 0\n",
    "    for k in [\"Jupiter\", \"Sun\"]:\n",
    "        F = F + f12(Body1, k, position_1)\n",
    "    return F\n",
    "\n",
    "\n",
    "def asteroid_init():\n",
    "    \n",
    "    for i in range(nbodies):\n",
    "        theta = 2*m.pi*rn.random()        #Phase of the orbit\n",
    "        r = rn.uniform(R_earth,R_jup)    #Radius of the asteroids between earth and jupiter orbit\n",
    "        bodieslist.append(\"Body \"+str(i+1))\n",
    "        positions[bodieslist[i+2]] = np.array([r*m.cos(theta),r*m.sin(theta),0,(R_jup/r)*V_jup*m.cos(theta+m.pi/2),(R_jup/r)*V_jup*m.sin(theta+m.pi/2),0, 0])\n",
    "        \n",
    "    "
   ]
  },
  {
   "cell_type": "code",
   "execution_count": null,
   "metadata": {
    "scrolled": true
   },
   "outputs": [],
   "source": [
    "def RK4_gravitational(Body, dt):\n",
    "    \n",
    "    k1 = np.concatenate((positions[Body][3:6], force(Body, positions[Body][:3]))) * dt\n",
    "    k2 = np.concatenate((positions[Body][3:6] + k1[3:] * 0.5, force(Body, positions[Body][:3]  + k1[:3] * 0.5))) * dt\n",
    "    k3 = np.concatenate((positions[Body][3:6] + k2[3:] * 0.5, force(Body, positions[Body][:3]  + k2[:3] * 0.5))) * dt\n",
    "    k4 = np.concatenate((positions[Body][3:6] + k3[3:], force(Body, positions[Body][:3]  + k3[:3]))) * dt\n",
    "    positions[Body][:6] = positions[Body][:6] + k1 / 6 + k2 / 3 + k3 / 3 + k4 / 6\n",
    "    \n",
    "    return positions[Body]\n",
    "\n",
    "\n",
    "def integrator():\n",
    "    asteroid_init()\n",
    "    dt = t_end / t_intervals\n",
    "    plt.figure(figsize=(8,6))\n",
    "    for i in range(t_intervals):\n",
    "        temporalbodielist = bodieslist\n",
    "        for j, Body in enumerate(temporalbodielist):\n",
    "            positions[Body] = RK4_gravitational(Body, dt)\n",
    "            #Condition to get rid of asteroids flying away\n",
    "            if positions[Body][0] > 3*R_jup or positions[Body][1] > 3* R_jup or positions[Body][0] < -3*R_jup or positions[Body][1] < -3* R_jup:  #Eliminating from the list asteroids scaping\n",
    "                bodieslist.remove(Body)\n",
    "        if (i % 100) == 0:\n",
    "            plt.plot(positions[\"Sun\"][0], positions[\"Sun\"][1], 'o', c = 'y') \n",
    "            plt.plot(positions[\"Jupiter\"][0], positions[\"Jupiter\"][1], 'o', c = 'b') \n",
    "            if(nbodies!=0): \n",
    "                for k in range(nbodies):\n",
    "                    plt.plot(positions[\"Body \"+str(k+1)][0], positions[\"Body \"+str(k+1)][1], 'o', c = 'g')  \n",
    "    plt.show()\n",
    "    return positions\n",
    "%timeit print integrator()"
   ]
  },
  {
   "cell_type": "code",
   "execution_count": null,
   "metadata": {
    "collapsed": true
   },
   "outputs": [],
   "source": []
  }
 ],
 "metadata": {
  "kernelspec": {
   "display_name": "Python 2",
   "language": "python",
   "name": "python2"
  },
  "language_info": {
   "codemirror_mode": {
    "name": "ipython",
    "version": 2
   },
   "file_extension": ".py",
   "mimetype": "text/x-python",
   "name": "python",
   "nbconvert_exporter": "python",
   "pygments_lexer": "ipython2",
   "version": "2.7.14"
  }
 },
 "nbformat": 4,
 "nbformat_minor": 2
}
