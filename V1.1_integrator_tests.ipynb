{
 "cells": [
  {
   "cell_type": "code",
   "execution_count": 291,
   "metadata": {
    "collapsed": true
   },
   "outputs": [],
   "source": [
    "import numpy as np\n",
    "import numpy.random as rn\n",
    "import math as m\n",
    "import matplotlib.pyplot as plt\n",
    "from __future__ import division\n",
    "import time\n",
    "\n",
    "G = 6.67e-11\n",
    "R_jup = 7.785e+11\n",
    "M_jup = 1.898e+27\n",
    "M_sun = 1.989e+30\n",
    "V_jup = m.sqrt(G*M_sun/R_jup)\n",
    "R_earth = 1.496e+11 #Smallest R for an asteroid"
   ]
  },
  {
   "cell_type": "code",
   "execution_count": 292,
   "metadata": {},
   "outputs": [
    {
     "name": "stdout",
     "output_type": "stream",
     "text": [
      "{'Sun': array([  0.00000000e+00,   0.00000000e+00,   0.00000000e+00,\n",
      "         0.00000000e+00,   0.00000000e+00,   0.00000000e+00,\n",
      "         1.98900000e+30]), 'Body 1': array([  6.25041220e+11,  -4.47763879e+11,   0.00000000e+00,\n",
      "         7.67890557e+03,   1.07191150e+04,   0.00000000e+00,\n",
      "         0.00000000e+00]), 'Jupiter': array([  7.78500000e+11,   0.00000000e+00,   0.00000000e+00,\n",
      "         0.00000000e+00,   1.30542222e+04,   0.00000000e+00,\n",
      "         1.89800000e+27])}\n"
     ]
    }
   ],
   "source": [
    "nbodies = 1\n",
    "dt = 3.16e+6 # approximately a year in time-step\n",
    "t_end = 3.16e+6 * 11.8618 * 10\n",
    "bodieslist = [\"Sun\", \"Jupiter\"]\n",
    "initcond = np.zeros((nbodies,7))\n",
    "positions = {}\n",
    "positions[\"Sun\"] = np.array([0,0,0,0,0,0,M_sun]) #x,y,z,vx, vy, vz\n",
    "positions[\"Jupiter\"] = np.array([R_jup,0,0,0,V_jup,0,M_jup])\n",
    "asteroid_init()\n",
    "\n",
    "print positions"
   ]
  },
  {
   "cell_type": "code",
   "execution_count": 293,
   "metadata": {
    "collapsed": true
   },
   "outputs": [],
   "source": [
    "def f12(Body1,Body2,position_1):\n",
    "    if Body1 == Body2:\n",
    "        return np.array([0,0,0])\n",
    "    pos = position_1-positions[Body2][0:3]\n",
    "    dist = np.linalg.norm(pos)\n",
    "    return -G* positions[Body2][-1]*pos/(dist)**3\n",
    "\n",
    "def force(Body1, position_1):\n",
    "    F = 0\n",
    "    for k in [\"Jupiter\", \"Sun\"]:\n",
    "        F = F + f12(Body1, k, position_1)\n",
    "    return F\n",
    "\n",
    "\n",
    "def asteroid_init():\n",
    "    \n",
    "    for i in range(nbodies):\n",
    "        theta = 2*m.pi*rn.random()        #Phase of the orbit\n",
    "        r = rn.uniform(R_earth,R_jup)    #Radius of the asteroids between earth and jupiter orbit\n",
    "        v = m.sqrt(G*M_sun/r) * rn.uniform(1, 1.01)\n",
    "        bodieslist.append(\"Body \"+str(i+1))\n",
    "        positions[bodieslist[i+2]] = np.array([r*m.cos(theta),r*m.sin(theta),0,v*m.cos(theta+m.pi/2),v*m.sin(theta+m.pi/2),0, 0])\n",
    "        \n",
    "    "
   ]
  },
  {
   "cell_type": "code",
   "execution_count": 294,
   "metadata": {
    "scrolled": false
   },
   "outputs": [],
   "source": [
    "def RK4_gravitational(Body, dt):\n",
    "    \n",
    "    k1 = np.concatenate((positions[Body][3:6], force(Body, positions[Body][:3]))) * dt\n",
    "    k2 = np.concatenate((positions[Body][3:6] + k1[3:] * 0.5, force(Body, positions[Body][:3]  + k1[:3] * 0.5))) * dt\n",
    "    k3 = np.concatenate((positions[Body][3:6] + k2[3:] * 0.5, force(Body, positions[Body][:3]  + k2[:3] * 0.5))) * dt\n",
    "    k4 = np.concatenate((positions[Body][3:6] + k3[3:], force(Body, positions[Body][:3]  + k3[:3]))) * dt\n",
    "    positions[Body][:6] = positions[Body][:6] + k1 / 6 + k2 / 3 + k3 / 3 + k4 / 6\n",
    "    \n",
    "    return positions[Body]\n",
    "\n",
    "\n",
    "def EulerCromer_gravitational(Body, dt):\n",
    "    \n",
    "    v_np1 = positions[Body][3:6] + force(Body, positions[Body][:3]) * dt\n",
    "    x_np1 = positions[Body][:3] + v_np1 * dt\n",
    "    positions[Body][:6] = np.concatenate((x_np1, v_np1))\n",
    "    \n",
    "    return positions[Body]\n",
    "\n",
    "\n",
    "def integrator(t_end, dt, int_type):\n",
    "    for i in xrange(int(t_end/dt)):\n",
    "        temporalbodielist = bodieslist\n",
    "        for j, Body in enumerate(temporalbodielist):\n",
    "            if int_type == 'RK4':\n",
    "                positions[Body] = RK4_gravitational(Body, dt)\n",
    "            else:\n",
    "                positions[Body] = EulerCromer_gravitational(Body, dt)\n",
    "            #Condition to get rid of asteroids flying away\n",
    "            if positions[Body][0] > 3*R_jup or positions[Body][1] > 3* R_jup or positions[Body][0] < -3*R_jup or positions[Body][1] < -3* R_jup:  #Eliminating from the list asteroids scaping\n",
    "                bodieslist.remove(Body)\n",
    "        \n",
    "    return positions\n",
    "\n",
    "time_1 = time.time()\n",
    "print integrator(t_end, dt)\n",
    "# plt.show()\n",
    "print 'Computation time: ' + str(time.time() - time_1) + ' s'"
   ]
  },
  {
   "cell_type": "code",
   "execution_count": 296,
   "metadata": {},
   "outputs": [
    {
     "name": "stdout",
     "output_type": "stream",
     "text": [
      "[   100.   1200.   2300.   3400.   4500.   5600.   6700.   7800.   8900.\n",
      "  10000.]\n"
     ]
    }
   ],
   "source": [
    "def E_potential(Body1,Body2,position_1):\n",
    "    if Body1 == Body2:\n",
    "        return np.array([0,0,0])\n",
    "    pos = position_1-positions[Body2][0:3]\n",
    "    dist = np.linalg.norm(pos)\n",
    "    return -G* positions[Body1][-1] * positions[Body2][-1]/(dist)\n",
    "\n",
    "def energy_calculator(Body1, position_1):\n",
    "    E_pot = 0\n",
    "    for k in [\"Jupiter\", \"Sun\"]:\n",
    "        E_pot = E_pot + E_potential(Body1, k, position_1)\n",
    "    E_kin = 0.5 * positions[Body1][-1] * (positions[Body1][3]**2 + positions[Body1][4]**2 + positions[Body1][5]**2)\n",
    "    return E_pot + E_kin\n",
    "\n",
    "def energy_tester():\n",
    "    dt = 1e+6\n",
    "    intervals = np.linspace(1e+2, 1e+4, 10)\n",
    "    for int_type in ['RK4', 'EulerCromer']:\n",
    "        for i in intervals:\n",
    "            E_total = 0\n",
    "            for j, Body in enumerate(bodieslist):\n",
    "                if int_type == 'RK4':\n",
    "                    positions[Body] = RK4_gravitational(Body, dt)\n",
    "                else:\n",
    "                    positions[Body] = EulerCromer_gravitational(Body, dt)\n",
    "                E_total += energy_calculator(Body, positions[Body][:3])\n",
    "    \n",
    "        E_\n",
    "        \n"
   ]
  },
  {
   "cell_type": "code",
   "execution_count": 295,
   "metadata": {},
   "outputs": [
    {
     "data": {
      "image/png": "[encoded data removed]",
      "text/plain": [
       "<matplotlib.figure.Figure at 0x285de9e8>"
      ]
     },
     "metadata": {},
     "output_type": "display_data"
    }
   ],
   "source": [
    "def accuracy_tester():\n",
    "    t_kep = 2 * m.pi * R_jup**1.5 / m.sqrt(G*M_sun) # keplerian period jupiter\n",
    "    fig, ax = plt.subplots(1,1, figsize=(8,6))\n",
    "    errors = np.zeros(20)\n",
    "    dts = np.logspace(5,7,20)\n",
    "    for int_type in ['RK4', 'EulerCromer']:\n",
    "        for i, dt in enumerate(dts):\n",
    "            positions[\"Sun\"] = np.array([0,0,0,0,0,0,M_sun]) #x,y,z,vx, vy, vz\n",
    "            positions[\"Jupiter\"] = np.array([R_jup,0,0,0,V_jup,0,0]) # massless jupiter\n",
    "            new_positions = integrator(t_kep, dt, int_type)\n",
    "            r_obs = m.sqrt(new_positions['Jupiter'][0]**2 + new_positions['Jupiter'][1]**2 + new_positions['Jupiter'][2]**2)\n",
    "            errors[i] = abs((r_obs - R_jup) / R_jup)\n",
    "        ax.plot(dts, errors, label=int_type)\n",
    "    ax.set_xscale('log')\n",
    "    ax.set_yscale('log')\n",
    "    ax.set_xlabel('dt (s)', fontsize=20)\n",
    "    ax.set_ylabel('Error', fontsize=20)\n",
    "    ax.tick_params(width=2, length=4, labelsize=18)\n",
    "    ax.legend(prop={'size': 14})\n",
    "    plt.show()\n",
    "    \n",
    "# accuracy_tester()"
   ]
  }
 ],
 "metadata": {
  "kernelspec": {
   "display_name": "Python 2",
   "language": "python",
   "name": "python2"
  },
  "language_info": {
   "codemirror_mode": {
    "name": "ipython",
    "version": 2
   },
   "file_extension": ".py",
   "mimetype": "text/x-python",
   "name": "python",
   "nbconvert_exporter": "python",
   "pygments_lexer": "ipython2",
   "version": "2.7.14"
  }
 },
 "nbformat": 4,
 "nbformat_minor": 2
}
