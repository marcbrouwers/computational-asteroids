{
 "cells": [
  {
   "cell_type": "code",
   "execution_count": 54,
   "metadata": {
    "collapsed": true
   },
   "outputs": [],
   "source": [
    "import numpy as np\n",
    "import random as rn\n",
    "import matplotlib.pyplot as plt"
   ]
  },
  {
   "cell_type": "code",
   "execution_count": 55,
   "metadata": {},
   "outputs": [],
   "source": [
    "nbodies = 1\n",
    "deltat = 0.001\n",
    "timeintervals = 1000\n",
    "bodieslist = [\"Sun\", \"Jupiter\"]\n",
    "initcond = np.zeros((nbodies,7))\n",
    "position = {}\n",
    "position[\"Sun\"] = np.array([x,y,z,x-1,y-1,z-1,mass])\n",
    "position[\"Jupiter\"] = np.array([x,y,z,x-1,y-1,z-1,mass])\n",
    "for i in range(nbodies):\n",
    "    bodieslist.append(\"Body \"+str(i+1))\n",
    "    #x[i], y[i], z[i],x[i-1],y[i-1],z[i-1], m\n",
    "    initcond[i][:] = [rn.random(),rn.random(),0,rn.random(),rn.random(),0, rn.random()]\n",
    "    position[bodieslist[i]] = initcond[i][:]"
   ]
  },
  {
   "cell_type": "code",
   "execution_count": 56,
   "metadata": {
    "collapsed": true
   },
   "outputs": [],
   "source": [
    "def velocity(x):\n",
    "    return [(x[0]-x[3])/deltat,(x[1]-x[4])/deltat,(x[2]-x[5])/deltat]\n",
    "\n",
    "def f12(Body1,Body2):\n",
    "    if Body1 == Body2:\n",
    "        return np.array([0,0,0])\n",
    "    G = 1\n",
    "    pos = position[Body1][0:3]-position[Body2][0:3]\n",
    "    dist = np.linalg.norm(pos)\n",
    "    return -G* position[Body2][-1]*pos/(dist)**3\n",
    "def force(Body1):\n",
    "    F = 0\n",
    "    for k in [\"Jupiter\", \"Sun\"]:\n",
    "        F = F + f12(Body1, k)\n",
    "    return F"
   ]
  },
  {
   "cell_type": "code",
   "execution_count": 57,
   "metadata": {
    "collapsed": true
   },
   "outputs": [],
   "source": [
    "sol = np.empty((timeintervals+1,3*nbodies))\n",
    "for j, i in enumerate(bodieslist):\n",
    "    for k in range(3):\n",
    "        sol[0][j+k]=position[i][k]\n",
    "for t in range(timeintervals):\n",
    "    t = t+1\n",
    "    nextpos = []\n",
    "    for i in bodieslist:\n",
    "        nextpos.append(deltat*force(i) + 2*position[i][0:3]-position[i][3:6])\n",
    "    for j, i in enumerate(bodieslist):\n",
    "        position[i][3:6] = position[i][0:3]\n",
    "        position[i][0:3] = nextpos[j]\n",
    "        for k in range(3):\n",
    "            sol[t][j+k]=nextpos[j][k]"
   ]
  },
  {
   "cell_type": "code",
   "execution_count": 58,
   "metadata": {},
   "outputs": [
    {
     "data": {
      "text/plain": [
       "array([ 0.33244938])"
      ]
     },
     "execution_count": 58,
     "metadata": {},
     "output_type": "execute_result"
    }
   ],
   "source": [
    "# print sol[1,0]\n",
    "# for el in sol[:]:\n",
    "#     print el[0]\n",
    "sol[0, 0:1]"
   ]
  }
 ],
 "metadata": {
  "kernelspec": {
   "display_name": "Python 2",
   "language": "python",
   "name": "python2"
  },
  "language_info": {
   "codemirror_mode": {
    "name": "ipython",
    "version": 2
   },
   "file_extension": ".py",
   "mimetype": "text/x-python",
   "name": "python",
   "nbconvert_exporter": "python",
   "pygments_lexer": "ipython2",
   "version": "2.7.14"
  }
 },
 "nbformat": 4,
 "nbformat_minor": 2
}
